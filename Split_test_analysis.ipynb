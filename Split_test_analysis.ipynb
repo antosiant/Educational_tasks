{
  "cells": [
    {
      "cell_type": "markdown",
      "metadata": {
        "id": "view-in-github",
        "colab_type": "text"
      },
      "source": [
        "<a href=\"https://colab.research.google.com/github/antosiant/Educational_tasks/blob/main/Split_test_analysis.ipynb\" target=\"_parent\"><img src=\"https://colab.research.google.com/assets/colab-badge.svg\" alt=\"Open In Colab\"/></a>"
      ]
    },
    {
      "cell_type": "markdown",
      "id": "d4236bca",
      "metadata": {
        "id": "d4236bca"
      },
      "source": [
        "<div style=\"font-size:1.5em; background-color: rgb(191, 191, 191); padding: 10px; width: 100%; display: inline-block;\">\n",
        "    <b>A/B Test analysis <br> Аналіз А/В тесту</b>\n",
        "</div>"
      ]
    },
    {
      "cell_type": "code",
      "execution_count": null,
      "id": "7f19399b",
      "metadata": {
        "id": "7f19399b"
      },
      "outputs": [],
      "source": [
        "import pandas as pd\n",
        "from scipy import stats\n",
        "import numpy as np\n",
        "import gdown"
      ]
    },
    {
      "cell_type": "markdown",
      "id": "6f9d3f34",
      "metadata": {
        "id": "6f9d3f34"
      },
      "source": [
        "<div style=\"font-size:1.2em; padding: 10px; width: 100%; display: inline-block;\">\n",
        "     <b> Uploading a file of test data from Google Drive <br> Завантажуємо файл з даними тесту з гугл диску </b>\n",
        "</div>"
      ]
    },
    {
      "cell_type": "code",
      "execution_count": null,
      "id": "1ff6dece",
      "metadata": {
        "id": "1ff6dece",
        "outputId": "83da4af6-ae3f-43c7-be52-fb169613cc78"
      },
      "outputs": [
        {
          "name": "stderr",
          "output_type": "stream",
          "text": [
            "Downloading...\n",
            "From: https://drive.google.com/uc?id=1PMj_PSf9BXPohDsskv4qtGhquu_--9vi\n",
            "To: C:\\Users\\User\\ab_test_data.csv\n",
            "100%|█████████████████████████████████████████████████████████████████████████████| 1.36M/1.36M [00:00<00:00, 6.46MB/s]\n"
          ]
        },
        {
          "data": {
            "text/plain": [
              "'ab_test_data.csv'"
            ]
          },
          "execution_count": 3,
          "metadata": {},
          "output_type": "execute_result"
        }
      ],
      "source": [
        "url = 'https://drive.google.com/uc?id=1PMj_PSf9BXPohDsskv4qtGhquu_--9vi'\n",
        "output = 'ab_test_data.csv'\n",
        "gdown.download(url, output, quiet=False)"
      ]
    },
    {
      "cell_type": "code",
      "execution_count": null,
      "id": "64a193dc",
      "metadata": {
        "id": "64a193dc",
        "outputId": "0dba5ba0-63ce-4f56-cfbe-111ffac0d185"
      },
      "outputs": [
        {
          "data": {
            "text/html": [
              "<div>\n",
              "<style scoped>\n",
              "    .dataframe tbody tr th:only-of-type {\n",
              "        vertical-align: middle;\n",
              "    }\n",
              "\n",
              "    .dataframe tbody tr th {\n",
              "        vertical-align: top;\n",
              "    }\n",
              "\n",
              "    .dataframe thead th {\n",
              "        text-align: right;\n",
              "    }\n",
              "</style>\n",
              "<table border=\"1\" class=\"dataframe\">\n",
              "  <thead>\n",
              "    <tr style=\"text-align: right;\">\n",
              "      <th></th>\n",
              "      <th>user_id</th>\n",
              "      <th>timestamp</th>\n",
              "      <th>test_group</th>\n",
              "      <th>conversion</th>\n",
              "    </tr>\n",
              "  </thead>\n",
              "  <tbody>\n",
              "    <tr>\n",
              "      <th>0</th>\n",
              "      <td>7f6833e6-1141-4f20-b4b2-f1e31019b1fd</td>\n",
              "      <td>2023-07-04 04:40:55.848109</td>\n",
              "      <td>a</td>\n",
              "      <td>0</td>\n",
              "    </tr>\n",
              "    <tr>\n",
              "      <th>1</th>\n",
              "      <td>e6a6e960-d3f3-4074-a516-ba1e609b211e</td>\n",
              "      <td>2023-07-06 00:26:45.486187</td>\n",
              "      <td>b</td>\n",
              "      <td>0</td>\n",
              "    </tr>\n",
              "    <tr>\n",
              "      <th>2</th>\n",
              "      <td>4d3fbfa5-6847-410a-bac2-477f01d5f400</td>\n",
              "      <td>2023-07-10 20:24:33.639464</td>\n",
              "      <td>b</td>\n",
              "      <td>0</td>\n",
              "    </tr>\n",
              "    <tr>\n",
              "      <th>3</th>\n",
              "      <td>361457d9-a044-48f7-981c-d67dc3861679</td>\n",
              "      <td>2023-07-20 07:04:49.957013</td>\n",
              "      <td>b</td>\n",
              "      <td>0</td>\n",
              "    </tr>\n",
              "    <tr>\n",
              "      <th>4</th>\n",
              "      <td>285cd63d-7d03-427f-a062-1fa2dd2e77d6</td>\n",
              "      <td>2023-07-19 23:27:50.116680</td>\n",
              "      <td>b</td>\n",
              "      <td>0</td>\n",
              "    </tr>\n",
              "  </tbody>\n",
              "</table>\n",
              "</div>"
            ],
            "text/plain": [
              "                                user_id                   timestamp  \\\n",
              "0  7f6833e6-1141-4f20-b4b2-f1e31019b1fd  2023-07-04 04:40:55.848109   \n",
              "1  e6a6e960-d3f3-4074-a516-ba1e609b211e  2023-07-06 00:26:45.486187   \n",
              "2  4d3fbfa5-6847-410a-bac2-477f01d5f400  2023-07-10 20:24:33.639464   \n",
              "3  361457d9-a044-48f7-981c-d67dc3861679  2023-07-20 07:04:49.957013   \n",
              "4  285cd63d-7d03-427f-a062-1fa2dd2e77d6  2023-07-19 23:27:50.116680   \n",
              "\n",
              "  test_group  conversion  \n",
              "0          a           0  \n",
              "1          b           0  \n",
              "2          b           0  \n",
              "3          b           0  \n",
              "4          b           0  "
            ]
          },
          "execution_count": 5,
          "metadata": {},
          "output_type": "execute_result"
        }
      ],
      "source": [
        "df = pd.read_csv('ab_test_data.csv')\n",
        "df.head()"
      ]
    },
    {
      "cell_type": "markdown",
      "id": "eac89a90",
      "metadata": {
        "id": "eac89a90"
      },
      "source": [
        "<div style=\"font-size:1.2em; padding: 10px; width: 100%; display: inline-block;\">\n",
        "    <b>Check the main statistical indicators for groups A and B <br> Перевіряємо основні статистичні показники для груп А та В</b>\n",
        "</div>"
      ]
    },
    {
      "cell_type": "code",
      "execution_count": null,
      "id": "10503ba6",
      "metadata": {
        "id": "10503ba6",
        "outputId": "6951d471-0752-43f3-b2c2-3ba864eadfa8"
      },
      "outputs": [
        {
          "data": {
            "text/html": [
              "<div>\n",
              "<style scoped>\n",
              "    .dataframe tbody tr th:only-of-type {\n",
              "        vertical-align: middle;\n",
              "    }\n",
              "\n",
              "    .dataframe tbody tr th {\n",
              "        vertical-align: top;\n",
              "    }\n",
              "\n",
              "    .dataframe thead tr th {\n",
              "        text-align: left;\n",
              "    }\n",
              "\n",
              "    .dataframe thead tr:last-of-type th {\n",
              "        text-align: right;\n",
              "    }\n",
              "</style>\n",
              "<table border=\"1\" class=\"dataframe\">\n",
              "  <thead>\n",
              "    <tr>\n",
              "      <th></th>\n",
              "      <th colspan=\"8\" halign=\"left\">conversion</th>\n",
              "    </tr>\n",
              "    <tr>\n",
              "      <th></th>\n",
              "      <th>count</th>\n",
              "      <th>mean</th>\n",
              "      <th>std</th>\n",
              "      <th>min</th>\n",
              "      <th>25%</th>\n",
              "      <th>50%</th>\n",
              "      <th>75%</th>\n",
              "      <th>max</th>\n",
              "    </tr>\n",
              "    <tr>\n",
              "      <th>test_group</th>\n",
              "      <th></th>\n",
              "      <th></th>\n",
              "      <th></th>\n",
              "      <th></th>\n",
              "      <th></th>\n",
              "      <th></th>\n",
              "      <th></th>\n",
              "      <th></th>\n",
              "    </tr>\n",
              "  </thead>\n",
              "  <tbody>\n",
              "    <tr>\n",
              "      <th>a</th>\n",
              "      <td>10013.0</td>\n",
              "      <td>0.061021</td>\n",
              "      <td>0.239380</td>\n",
              "      <td>0.0</td>\n",
              "      <td>0.0</td>\n",
              "      <td>0.0</td>\n",
              "      <td>0.0</td>\n",
              "      <td>1.0</td>\n",
              "    </tr>\n",
              "    <tr>\n",
              "      <th>b</th>\n",
              "      <td>9985.0</td>\n",
              "      <td>0.089034</td>\n",
              "      <td>0.284806</td>\n",
              "      <td>0.0</td>\n",
              "      <td>0.0</td>\n",
              "      <td>0.0</td>\n",
              "      <td>0.0</td>\n",
              "      <td>1.0</td>\n",
              "    </tr>\n",
              "  </tbody>\n",
              "</table>\n",
              "</div>"
            ],
            "text/plain": [
              "           conversion                                             \n",
              "                count      mean       std  min  25%  50%  75%  max\n",
              "test_group                                                        \n",
              "a             10013.0  0.061021  0.239380  0.0  0.0  0.0  0.0  1.0\n",
              "b              9985.0  0.089034  0.284806  0.0  0.0  0.0  0.0  1.0"
            ]
          },
          "execution_count": 6,
          "metadata": {},
          "output_type": "execute_result"
        }
      ],
      "source": [
        "df.groupby('test_group').describe()"
      ]
    },
    {
      "cell_type": "markdown",
      "id": "e6db2af2",
      "metadata": {
        "id": "e6db2af2"
      },
      "source": [
        "<div style=\"font-size:1.2em; padding: 10px; width: 100%; display: inline-block;\">\n",
        "    <b>A/B Test duration <br> Тривалість тесту</b>\n",
        "</div>"
      ]
    },
    {
      "cell_type": "code",
      "execution_count": null,
      "id": "18e7ff92",
      "metadata": {
        "id": "18e7ff92",
        "outputId": "95640325-af0b-4c3b-9ba7-3eab43ad9bc1"
      },
      "outputs": [
        {
          "data": {
            "text/html": [
              "<b> A/B Test duration is 22 days </b>"
            ],
            "text/plain": [
              "<IPython.core.display.HTML object>"
            ]
          },
          "metadata": {},
          "output_type": "display_data"
        }
      ],
      "source": [
        "from IPython.display import display, HTML\n",
        "df['timestamp'] = pd.to_datetime(df['timestamp'])\n",
        "df['date'] = df['timestamp'].dt.date\n",
        "start_date = df['date'].min()\n",
        "end_date = df['date'].max()\n",
        "\n",
        "duration = end_date - start_date\n",
        "# Convert the duration into a convenient format (for example, in days)\n",
        "# Перетворимо тривалість на зручний формат (наприклад, у дні)\n",
        "duration_in_days = duration.days\n",
        "display(HTML(f'<b> A/B Test duration is {duration_in_days} days </b>'))"
      ]
    },
    {
      "cell_type": "markdown",
      "id": "6cf7346f",
      "metadata": {
        "id": "6cf7346f"
      },
      "source": [
        "<div style=\"font-size:1.2em; padding: 10px; width: 100%; display: inline-block;\">\n",
        "   <b> Before applying the t-test, let's check the equality of variances in both groups. Let's check using Levene's test. <br> Перед застосуванням t-тесту перевіримо рівність дисперсій в обох групах. Зробимо перевірку за допомогою тесту Левена. </b>\n",
        "</div>"
      ]
    },
    {
      "cell_type": "markdown",
      "id": "9dd701f4",
      "metadata": {
        "id": "9dd701f4"
      },
      "source": [
        "<div style=\"font-size:1.3em; background-color: rgb(191, 191, 191); padding: 10px; width: 100%; display: inline-block;\">\n",
        "    <b>Levene's test / Тест Левена </b>\n",
        "</div>"
      ]
    },
    {
      "cell_type": "code",
      "execution_count": null,
      "id": "0aad2797",
      "metadata": {
        "id": "0aad2797",
        "outputId": "72661c59-0998-4628-a6d0-aa2a29c3394a"
      },
      "outputs": [
        {
          "data": {
            "text/html": [
              "<b> statistic: 56.7, p-value: 0.0 </b>"
            ],
            "text/plain": [
              "<IPython.core.display.HTML object>"
            ]
          },
          "metadata": {},
          "output_type": "display_data"
        },
        {
          "data": {
            "text/html": [
              "<b> The difference is statistically significant, Null Hypothesis is rejected.<br> Відмінність є статистично значнущою, нульову гіпотезу відкидаємо. </b>"
            ],
            "text/plain": [
              "<IPython.core.display.HTML object>"
            ]
          },
          "metadata": {},
          "output_type": "display_data"
        }
      ],
      "source": [
        "statistic, p_value = stats.levene(df[df['test_group']== 'a']['conversion'],\n",
        "                                  df[df['test_group']== 'b']['conversion'])\n",
        "display(HTML(f'<b> statistic: {round(statistic,3)}, p-value: {round(p_value, 3)} </b>'))\n",
        "alpha = 0.05\n",
        "\n",
        "if p_value < alpha:\n",
        "    display(HTML(f'<b> The difference is statistically significant, Null Hypothesis is rejected.<br> Відмінність є статистично значнущою, нульову гіпотезу відкидаємо. </b>'))\n",
        "else:\n",
        "    display(HTML(f'<b> The difference is insignificant, Null Hypothesis cannot rejected.<br> Відмінність не є статистично значнущою, нульову гіпотезу не відкидаємо. </b>'))"
      ]
    },
    {
      "cell_type": "markdown",
      "id": "ad5ce451",
      "metadata": {
        "id": "ad5ce451"
      },
      "source": [
        "<div style=\"font-size:1.3em; background-color: rgb(191, 191, 191); padding: 10px; width: 100%; display: inline-block; font-weight: bold\">\n",
        "    T-test / Тест Ст’юдента\n",
        "</div>"
      ]
    },
    {
      "cell_type": "code",
      "execution_count": null,
      "id": "4c8affb5",
      "metadata": {
        "id": "4c8affb5",
        "outputId": "5e4399bb-0e96-434b-b0a4-510723a3b28d"
      },
      "outputs": [
        {
          "data": {
            "text/html": [
              "<b> statistic: -7.53, p-value: 0.0</b>"
            ],
            "text/plain": [
              "<IPython.core.display.HTML object>"
            ]
          },
          "metadata": {},
          "output_type": "display_data"
        },
        {
          "data": {
            "text/html": [
              "<b> The difference is statistically significant, Null Hypothesis is rejected.<br> Відмінність є статистично значнущою, нульову гіпотезу відкидаємо. </b>"
            ],
            "text/plain": [
              "<IPython.core.display.HTML object>"
            ]
          },
          "metadata": {},
          "output_type": "display_data"
        }
      ],
      "source": [
        "statistic, p_value = stats.ttest_ind(df[df['test_group']== 'a']['conversion'],\n",
        "                                     df[df['test_group']== 'b']['conversion'],\n",
        "                                     alternative = 'less')\n",
        "display(HTML(f'<b> statistic: {round(statistic,2)}, p-value: {round(p_value, 2)}</b>'))\n",
        "alpha = 0.05\n",
        "\n",
        "if p_value < alpha:\n",
        "    display(HTML(f'<b> The difference is statistically significant, Null Hypothesis is rejected.<br> Відмінність є статистично значнущою, нульову гіпотезу відкидаємо. </b>'))\n",
        "else:\n",
        "    display(HTML(f'<b> The difference is insignificant, Null Hypothesis cannot rejected.<br> Відмінність не є статистично значнущою, нульову гіпотезу не відкидаємо. </b>'))"
      ]
    },
    {
      "cell_type": "markdown",
      "id": "b55654fe",
      "metadata": {
        "id": "b55654fe"
      },
      "source": [
        "<div style=\"font-size:1.3em; background-color: rgb(191, 191, 191); padding: 10px; width: 100%; display: inline-block; font-weight: bold\">\n",
        "    Z-test / Вальда Вольфовіца\n",
        "</div>"
      ]
    },
    {
      "cell_type": "code",
      "execution_count": null,
      "id": "2b76f73f",
      "metadata": {
        "id": "2b76f73f",
        "outputId": "0101d865-9d84-4852-ec92-74123feeff7e"
      },
      "outputs": [
        {
          "data": {
            "text/html": [
              "<b> z-statistics : -7.52</b>"
            ],
            "text/plain": [
              "<IPython.core.display.HTML object>"
            ]
          },
          "metadata": {},
          "output_type": "display_data"
        },
        {
          "data": {
            "text/html": [
              "<b> p-value : 0.0</b>"
            ],
            "text/plain": [
              "<IPython.core.display.HTML object>"
            ]
          },
          "metadata": {},
          "output_type": "display_data"
        },
        {
          "data": {
            "text/html": [
              "<b> The difference is statistically significant, Null Hypothesis is rejected.<br> Відмінність є статистично значнущою, нульову гіпотезу відкидаємо. </b>"
            ],
            "text/plain": [
              "<IPython.core.display.HTML object>"
            ]
          },
          "metadata": {},
          "output_type": "display_data"
        }
      ],
      "source": [
        "import statsmodels.api as sm\n",
        "\n",
        "a_success = df[df['test_group'] == 'a']['conversion'].sum()\n",
        "a_total = len(df[df['test_group'] == 'a'])\n",
        "b_success = df[df['test_group'] == 'b']['conversion'].sum()\n",
        "b_total = len(df[df['test_group'] == 'b'])\n",
        "\n",
        "# z-test\n",
        "z_stat, p_value = sm.stats.proportions_ztest([a_success, b_success], [a_total, b_total])\n",
        "\n",
        "display(HTML(f\"<b> z-statistics : {round(z_stat,3)}</b>\"))\n",
        "display(HTML(f\"<b> p-value : {round(p_value,3)}</b>\"))\n",
        "\n",
        "alpha = 0.05\n",
        "if p_value < alpha:\n",
        "    display(HTML(f'<b> The difference is statistically significant, Null Hypothesis is rejected.<br> Відмінність є статистично значнущою, нульову гіпотезу відкидаємо. </b>'))\n",
        "else:\n",
        "    display(HTML(f'<b> The difference is insignificant, Null Hypothesis cannot rejected.<br> Відмінність не є статистично значнущою, нульову гіпотезу не відкидаємо. </b>'))"
      ]
    },
    {
      "cell_type": "markdown",
      "id": "9d4b61d7",
      "metadata": {
        "id": "9d4b61d7"
      },
      "source": [
        "<div style=\"font-size:1.3em; background-color: rgb(191, 191, 191); padding: 10px; width: 100%; display: inline-block; font-weight: bold\">\n",
        "    Permutation test / Перестановний тест\n",
        "</div>"
      ]
    },
    {
      "cell_type": "markdown",
      "id": "1459d0a2",
      "metadata": {
        "id": "1459d0a2"
      },
      "source": [
        "<div style=\"font-size:1.2em; padding: 10px; width: 100%; display: inline-block;font-weight: bold\">\n",
        "    Null hypothesis: The distributions of the two samples are equal. <br> Alternative hypothesis: The distributions of the two samples are different.\n",
        "</div>\n",
        "<div style=\"font-size:1.2em; padding: 10px; width: 100%; display: inline-block;font-weight: bold\">\n",
        "    Нульова гіпотеза: Розподіли двох вибірок рівні. <br> Альтернативна гіпотеза: Розподіли двох вибірок різні.\n",
        "</div>"
      ]
    },
    {
      "cell_type": "code",
      "execution_count": null,
      "id": "2ac6ec07",
      "metadata": {
        "id": "2ac6ec07",
        "outputId": "f15ab9a2-33ca-42c4-c789-f150ae82ec14"
      },
      "outputs": [
        {
          "data": {
            "text/html": [
              "<b> mean b : 0.089</b>"
            ],
            "text/plain": [
              "<IPython.core.display.HTML object>"
            ]
          },
          "metadata": {},
          "output_type": "display_data"
        },
        {
          "data": {
            "text/html": [
              "<b> mean a : 0.061</b>"
            ],
            "text/plain": [
              "<IPython.core.display.HTML object>"
            ]
          },
          "metadata": {},
          "output_type": "display_data"
        },
        {
          "data": {
            "text/html": [
              "<b> difference between mean b and mean a : 0.028</b>"
            ],
            "text/plain": [
              "<IPython.core.display.HTML object>"
            ]
          },
          "metadata": {},
          "output_type": "display_data"
        }
      ],
      "source": [
        "observed_difference = np.mean(df[df['test_group']== 'b']['conversion']) - np.mean(df[df['test_group']== 'a']['conversion'])\n",
        "display(HTML(f\"<b> mean b : {round(np.mean(df[df['test_group']== 'b']['conversion']),3)}</b>\"))\n",
        "display(HTML(f\"<b> mean a : {round(np.mean(df[df['test_group']== 'a']['conversion']),3)}</b>\"))\n",
        "display(HTML(f\"<b> difference between mean b and mean a : {round(observed_difference,3)}</b>\"))"
      ]
    },
    {
      "cell_type": "code",
      "execution_count": null,
      "id": "739b4891",
      "metadata": {
        "id": "739b4891",
        "outputId": "a35647db-72b9-465f-f849-ffbd1e0c9879"
      },
      "outputs": [
        {
          "data": {
            "text/html": [
              "<b> A size is 10013, B size is 9985</b>"
            ],
            "text/plain": [
              "<IPython.core.display.HTML object>"
            ]
          },
          "metadata": {},
          "output_type": "display_data"
        },
        {
          "data": {
            "text/html": [
              "<b> Number of different permutation simulations is 1000 </b>"
            ],
            "text/plain": [
              "<IPython.core.display.HTML object>"
            ]
          },
          "metadata": {},
          "output_type": "display_data"
        }
      ],
      "source": [
        "a_size = df[df['test_group']== 'a']['test_group'].count()\n",
        "b_size = df[df['test_group']== 'b']['test_group'].count()\n",
        "display(HTML(f'<b> A size is {a_size}, B size is {b_size}</b>'))\n",
        "# print(a_size, b_size)\n",
        "all_users = df['conversion']\n",
        "permutations_number = 1_000\n",
        "simulated_diffs = []\n",
        "\n",
        "for _ in range(permutations_number):\n",
        "\n",
        "    users_shuffled = np.random.permutation(all_users)\n",
        "\n",
        "    users_a_simulated = users_shuffled[:a_size]\n",
        "    users_b_simulated = users_shuffled[a_size:]\n",
        "\n",
        "    simulated_diff = np.abs(np.mean(users_b_simulated) - np.mean(users_a_simulated))\n",
        "    simulated_diffs.append(simulated_diff)\n",
        "\n",
        "display(HTML(f'<b> Number of different permutation simulations is {len(simulated_diffs)} </b>'))\n"
      ]
    },
    {
      "cell_type": "code",
      "execution_count": null,
      "id": "00035f31",
      "metadata": {
        "id": "00035f31"
      },
      "outputs": [],
      "source": [
        "import matplotlib.pyplot as plt\n",
        "import seaborn as sns"
      ]
    },
    {
      "cell_type": "markdown",
      "id": "e4d94e00",
      "metadata": {
        "id": "e4d94e00"
      },
      "source": [
        "<div style=\"font-size:1.2em; padding: 10px; width: 100%; display: inline-block;font-weight: bold\">\n",
        "    We estimate the probabilities of obtaining differences in average values group A and group B by random chance. <br> Null hypothesis: the resulting difference in conversions in group A and B is random. <br> Alternative hypothesis: the resulting difference in conversions in group A and B is not random. <br> Оцінюємо ймовірність отримання відмінностей у середніх значеннях конверсій групи А та групи В за випадковим шансом.<br> Нульова гіпотеза: отримана різниця конверсій групи А групі В випадкова.<br> Альтернативна гіпотеза: отримана різниця конверсій у групі А групі не є випадковою.\n",
        "</div>"
      ]
    },
    {
      "cell_type": "code",
      "execution_count": null,
      "id": "2f5c51e9",
      "metadata": {
        "id": "2f5c51e9",
        "outputId": "6129835e-93ed-4b4b-b7d5-dfe990dd96ec"
      },
      "outputs": [
        {
          "data": {
            "image/png": "[encoded data removed]",
            "text/plain": [
              "<Figure size 576x396 with 1 Axes>"
            ]
          },
          "metadata": {},
          "output_type": "display_data"
        }
      ],
      "source": [
        "plt.style.use('seaborn')\n",
        "# Plot permutation simulations\n",
        "density_plot = sns.kdeplot(simulated_diffs, fill=True, bw_adjust=2)\n",
        "density_plot.set(\n",
        "    xlabel='Difference between groups',\n",
        "    ylabel='Number of groups',\n",
        "    title ='Simulated tests distribution'\n",
        ")\n",
        "\n",
        "density_plot.axvline(\n",
        "    x = observed_difference,\n",
        "    color ='red',\n",
        "    linestyle = '--'\n",
        ")\n",
        "\n",
        "plt.show()"
      ]
    },
    {
      "cell_type": "markdown",
      "id": "ac5396e0",
      "metadata": {
        "id": "ac5396e0"
      },
      "source": [
        "<div style=\"font-size:1.2em; padding: 10px; width: 100%; display: inline-block;font-weight: bold\">\n",
        "    The distribution of the difference between the conversions of group B and group A of 1000 permutations is very far from the real difference in conversions. <br> Розподіл різниці конверсій групи В і групи А 1000 перестановок сильно віддалений від реальної різниці конверсій.\n",
        "</div>"
      ]
    },
    {
      "cell_type": "code",
      "execution_count": null,
      "id": "b8e285ac",
      "metadata": {
        "id": "b8e285ac",
        "outputId": "e0188585-483b-40fc-9256-b1c82986d634"
      },
      "outputs": [
        {
          "name": "stdout",
          "output_type": "stream",
          "text": [
            "p-value:  0.0\n"
          ]
        },
        {
          "data": {
            "text/html": [
              "<b> The difference is statistically significant, Null Hypothesis is rejected.<br> Відмінність є статистично значнущою, нульову гіпотезу відкидаємо. </b>"
            ],
            "text/plain": [
              "<IPython.core.display.HTML object>"
            ]
          },
          "metadata": {},
          "output_type": "display_data"
        }
      ],
      "source": [
        "diffs = np.array(simulated_diffs)\n",
        "p_value = len( diffs[ diffs >= observed_difference ] ) / len(diffs)\n",
        "print('p-value: ', p_value)\n",
        "alpha = 0.05\n",
        "\n",
        "if p_value < alpha:\n",
        "    display(HTML(f'<b> The difference is statistically significant, Null Hypothesis is rejected.<br> Відмінність є статистично значнущою, нульову гіпотезу відкидаємо. </b>'))\n",
        "else:\n",
        "    display(HTML(f'<b> The difference is insignificant, Null Hypothesis cannot rejected.<br> Відмінність не є статистично значнущою, нульову гіпотезу не відкидаємо. </b>'))"
      ]
    },
    {
      "cell_type": "markdown",
      "id": "bae9c9f3",
      "metadata": {
        "id": "bae9c9f3"
      },
      "source": [
        "<div style=\"font-size:1.3em; background-color: rgb(191, 191, 191); padding: 10px; width: 100%; display: inline-block; font-weight: bold\">\n",
        "   Showing conversions over time / Відображення конверсій у часі\n",
        "</div>"
      ]
    },
    {
      "cell_type": "code",
      "execution_count": null,
      "id": "65a955b1",
      "metadata": {
        "id": "65a955b1",
        "outputId": "45477390-e579-4ace-e6c7-2496202d86a9"
      },
      "outputs": [
        {
          "data": {
            "image/png": "[encoded data removed]",
            "text/plain": [
              "<Figure size 720x360 with 1 Axes>"
            ]
          },
          "metadata": {},
          "output_type": "display_data"
        }
      ],
      "source": [
        "# Filter data for group A\n",
        "group_a_data = df[df['test_group'] == 'a']\n",
        "\n",
        "# Filter data for group B\n",
        "group_b_data = df[df['test_group'] == 'b']\n",
        "\n",
        "# Group by date and calculate average conversion\n",
        "conversion_by_date_a = group_a_data.groupby('date')['conversion'].mean()\n",
        "conversion_by_date_b = group_b_data.groupby('date')['conversion'].mean()\n",
        "\n",
        "# Display conversion by group\n",
        "plt.figure(figsize=(10, 5))\n",
        "plt.plot(conversion_by_date_a.index, conversion_by_date_a.values, marker='o', linestyle='-', label='Group A')\n",
        "plt.plot(conversion_by_date_b.index, conversion_by_date_b.values, marker='o', linestyle='-', label='Group B')\n",
        "plt.title('Conversion Over Time by Group')\n",
        "plt.xlabel('Date')\n",
        "plt.ylabel('Conversion')\n",
        "plt.xticks(rotation=45)\n",
        "plt.legend()\n",
        "plt.show()"
      ]
    },
    {
      "cell_type": "code",
      "execution_count": null,
      "id": "69547170",
      "metadata": {
        "id": "69547170"
      },
      "outputs": [],
      "source": []
    }
  ],
  "metadata": {
    "kernelspec": {
      "display_name": "Python 3 (ipykernel)",
      "language": "python",
      "name": "python3"
    },
    "language_info": {
      "codemirror_mode": {
        "name": "ipython",
        "version": 3
      },
      "file_extension": ".py",
      "mimetype": "text/x-python",
      "name": "python",
      "nbconvert_exporter": "python",
      "pygments_lexer": "ipython3",
      "version": "3.9.12"
    },
    "colab": {
      "provenance": [],
      "include_colab_link": true
    }
  },
  "nbformat": 4,
  "nbformat_minor": 5
}