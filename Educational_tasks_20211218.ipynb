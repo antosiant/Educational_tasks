{
 "cells": [
  {
   "cell_type": "code",
   "execution_count": 1,
   "id": "244ad174",
   "metadata": {},
   "outputs": [
    {
     "name": "stdout",
     "output_type": "stream",
     "text": [
      "1 2 3\n",
      "4 5 6\n",
      "1, 2, 3. 4, 5, 6. \n",
      "123 -- 4 * 5 * 6."
     ]
    }
   ],
   "source": [
    "print(1, 2, 3)\n",
    "print(4, 5, 6)\n",
    "print(1, 2, 3, sep=', ', end='. ')\n",
    "print(4, 5, 6, sep=', ', end='. ')\n",
    "print()\n",
    "print(1, 2, 3, sep='', end=' -- ')\n",
    "print(4, 5, 6, sep=' * ', end='.')"
   ]
  },
  {
   "cell_type": "code",
   "execution_count": 11,
   "id": "55983935",
   "metadata": {},
   "outputs": [
    {
     "name": "stdout",
     "output_type": "stream",
     "text": [
      "2\n",
      "5\n",
      "2\n",
      "3\n",
      "4\n",
      "5\n"
     ]
    }
   ],
   "source": [
    "a=int(input())\n",
    "b=int(input())\n",
    "for i in range(a, b+1):\n",
    "     print(a)\n",
    "     a+=1"
   ]
  },
  {
   "cell_type": "code",
   "execution_count": 13,
   "id": "d4b31a49",
   "metadata": {},
   "outputs": [
    {
     "name": "stdout",
     "output_type": "stream",
     "text": [
      "3\n",
      "10\n",
      "3\n",
      "4\n",
      "5\n",
      "6\n",
      "7\n",
      "8\n",
      "9\n",
      "10\n"
     ]
    }
   ],
   "source": [
    "a=int(input())\n",
    "b=int(input())\n",
    "if a<b:\n",
    "    for i in range(a, b+1):\n",
    "          print(i)\n",
    "else:\n",
    "    for i in range(a, b-1,-1):\n",
    "          print(i)"
   ]
  },
  {
   "cell_type": "code",
   "execution_count": 18,
   "id": "c7120091",
   "metadata": {},
   "outputs": [
    {
     "name": "stdout",
     "output_type": "stream",
     "text": [
      "10\n",
      "5\n",
      "9 7 5 "
     ]
    }
   ],
   "source": [
    "a = int(input())\n",
    "b = int(input())\n",
    "for i in range(a - (a + 1) % 2, b - b % 2, -2):\n",
    "    print(i, end=' ')"
   ]
  },
  {
   "cell_type": "code",
   "execution_count": 20,
   "id": "66c1a070",
   "metadata": {},
   "outputs": [
    {
     "name": "stdout",
     "output_type": "stream",
     "text": [
      "1\n",
      "2\n",
      "3\n",
      "4\n",
      "5\n",
      "6\n",
      "7\n",
      "8\n",
      "9\n",
      "0\n",
      "45\n"
     ]
    }
   ],
   "source": [
    "a=0\n",
    "for i in range(1,11):\n",
    "    a+=int(input())\n",
    "print(a)"
   ]
  },
  {
   "cell_type": "code",
   "execution_count": 21,
   "id": "b341d270",
   "metadata": {},
   "outputs": [
    {
     "name": "stdout",
     "output_type": "stream",
     "text": [
      "3\n",
      "1\n",
      "2\n",
      "3\n",
      "6\n"
     ]
    }
   ],
   "source": [
    "n=int(input())\n",
    "m=0\n",
    "for i in range(n):\n",
    "    m+=int(input())\n",
    "print(m)"
   ]
  },
  {
   "cell_type": "code",
   "execution_count": 22,
   "id": "fe0f3062",
   "metadata": {},
   "outputs": [
    {
     "name": "stdout",
     "output_type": "stream",
     "text": [
      "3\n",
      "36\n"
     ]
    }
   ],
   "source": [
    "n=int(input())\n",
    "sum=0\n",
    "for i in range(1, n+1):\n",
    "    sum+=i**3\n",
    "print(sum)"
   ]
  },
  {
   "cell_type": "code",
   "execution_count": 26,
   "id": "a28ec976",
   "metadata": {},
   "outputs": [
    {
     "name": "stdout",
     "output_type": "stream",
     "text": [
      "4\n",
      "24\n"
     ]
    }
   ],
   "source": [
    "n=int(input())\n",
    "s=1\n",
    "for i in range(1, n+1):\n",
    "    s*=i\n",
    "print(s)"
   ]
  },
  {
   "cell_type": "code",
   "execution_count": 27,
   "id": "d9fd23a8",
   "metadata": {},
   "outputs": [
    {
     "name": "stdout",
     "output_type": "stream",
     "text": [
      "10\n",
      "4037913\n"
     ]
    }
   ],
   "source": [
    "n=int(input())\n",
    "f=1\n",
    "s=0\n",
    "for i in range(1, n+1):\n",
    "    f*=i\n",
    "    s+=f\n",
    "print(s)"
   ]
  },
  {
   "cell_type": "code",
   "execution_count": 28,
   "id": "402b5645",
   "metadata": {},
   "outputs": [
    {
     "name": "stdout",
     "output_type": "stream",
     "text": [
      "5\n",
      "0\n",
      "2\n",
      "5\n",
      "7\n",
      "0\n",
      "2\n"
     ]
    }
   ],
   "source": [
    "num_zeroes = 0\n",
    "for i in range(int(input())):\n",
    "    if int(input()) == 0:\n",
    "        num_zeroes += 1\n",
    "print(num_zeroes)"
   ]
  },
  {
   "cell_type": "code",
   "execution_count": 31,
   "id": "a7a15129",
   "metadata": {},
   "outputs": [
    {
     "name": "stdout",
     "output_type": "stream",
     "text": [
      "5\n",
      "1\n",
      "12\n",
      "123\n",
      "1234\n",
      "12345\n"
     ]
    }
   ],
   "source": [
    "a=0\n",
    "for i in range(int(input())):\n",
    "    a+=1 \n",
    "    for i in range(1,a+1): \n",
    "        print(i, end='')\n",
    "    print(sep='') "
   ]
  },
  {
   "cell_type": "code",
   "execution_count": 32,
   "id": "bedb37e1",
   "metadata": {},
   "outputs": [
    {
     "name": "stdout",
     "output_type": "stream",
     "text": [
      "5\n",
      "1\n",
      "12\n",
      "123\n",
      "1234\n",
      "12345\n"
     ]
    }
   ],
   "source": [
    "n = int(input())\n",
    "for i in range(1, n + 1):\n",
    "    for j in range(1, i + 1):\n",
    "        print(j, sep='', end='')\n",
    "    print()"
   ]
  },
  {
   "cell_type": "code",
   "execution_count": 41,
   "id": "b357cd4e",
   "metadata": {},
   "outputs": [
    {
     "name": "stdout",
     "output_type": "stream",
     "text": [
      "6\n",
      "1\n",
      "2\n",
      "4\n",
      "5\n",
      "6\n",
      "3\n"
     ]
    }
   ],
   "source": [
    "n=int(input())\n",
    "sum=0\n",
    "for i in range(1, n+1):\n",
    "        sum+=i\n",
    "for i in range(1, n):\n",
    "        a=int(input())\n",
    "        sum-=a\n",
    "print(sum)"
   ]
  },
  {
   "cell_type": "code",
   "execution_count": 42,
   "id": "735f1770",
   "metadata": {},
   "outputs": [
    {
     "name": "stdout",
     "output_type": "stream",
     "text": [
      "What is the answer?\n",
      "19\n",
      "42\n",
      "What is the answer?What is the answer?What is the answer?\n",
      "What is the answer? 42\n"
     ]
    }
   ],
   "source": [
    "s = input()\n",
    "print(len(s))\n",
    "t = input()\n",
    "number = int(t)\n",
    "u = str(number)\n",
    "print(s * 3)\n",
    "print(s + ' ' + u)"
   ]
  },
  {
   "cell_type": "code",
   "execution_count": 43,
   "id": "aa82255c",
   "metadata": {},
   "outputs": [
    {
     "name": "stdout",
     "output_type": "stream",
     "text": [
      "b\n",
      "g\n",
      "bc\n",
      "bcdef\n",
      "abc\n",
      "cdefg\n",
      "abcdef\n",
      "aceg\n",
      "bdf\n",
      "gfedcba\n"
     ]
    }
   ],
   "source": [
    "s = 'abcdefg'\n",
    "print(s[1])\n",
    "print(s[-1])\n",
    "print(s[1:3])\n",
    "print(s[1:-1])\n",
    "print(s[:3])\n",
    "print(s[2:])\n",
    "print(s[:-1])\n",
    "print(s[::2])\n",
    "print(s[1::2])\n",
    "print(s[::-1])"
   ]
  },
  {
   "cell_type": "code",
   "execution_count": 58,
   "id": "34833833",
   "metadata": {},
   "outputs": [
    {
     "name": "stdout",
     "output_type": "stream",
     "text": [
      "abcdefgih\n",
      "c\n",
      "i\n",
      "abcde\n",
      "abcdefg\n",
      "acegh\n",
      "bdfi\n",
      "higfedcba\n",
      "hgeca\n",
      "9\n"
     ]
    }
   ],
   "source": [
    "s=input()\n",
    "print(s[2])\n",
    "print(s[-2])\n",
    "print(s[:5])\n",
    "print(s[:-2])\n",
    "print(s[::2])\n",
    "print(s[1::2])\n",
    "print(s[::-1])\n",
    "print(s[-1::-2])\n",
    "print(len(s))"
   ]
  },
  {
   "cell_type": "code",
   "execution_count": 59,
   "id": "fa5e2abb",
   "metadata": {},
   "outputs": [
    {
     "name": "stdout",
     "output_type": "stream",
     "text": [
      "4\n",
      "5\n"
     ]
    }
   ],
   "source": [
    "print('Abracadabra'.count('a'))\n",
    "# вернёт 4\n",
    "print(('a' * 10).count('aa'))\n",
    "# вернёт 5"
   ]
  },
  {
   "cell_type": "code",
   "execution_count": 60,
   "id": "d382adac",
   "metadata": {},
   "outputs": [
    {
     "name": "stdout",
     "output_type": "stream",
     "text": [
      "asnjk lkjkj lkjj\n",
      "3\n"
     ]
    }
   ],
   "source": [
    "S=input()\n",
    "print(S.count(' ')+1)"
   ]
  },
  {
   "cell_type": "code",
   "execution_count": 84,
   "id": "883781fc",
   "metadata": {},
   "outputs": [
    {
     "name": "stdout",
     "output_type": "stream",
     "text": [
      "z\n",
      "z\n"
     ]
    }
   ],
   "source": [
    "from math import ceil\n",
    "s=input()\n",
    "l=ceil(len(s)/2)\n",
    "s1=s[l:]+s[0:l]\n",
    "print(s1)"
   ]
  },
  {
   "cell_type": "code",
   "execution_count": 85,
   "id": "9e265527",
   "metadata": {},
   "outputs": [
    {
     "name": "stdout",
     "output_type": "stream",
     "text": [
      "z\n",
      "z\n"
     ]
    }
   ],
   "source": [
    "s = input()\n",
    "print(s[(len(s) + 1) // 2:] + s[:(len(s) + 1) // 2])"
   ]
  },
  {
   "cell_type": "code",
   "execution_count": 89,
   "id": "3863498b",
   "metadata": {},
   "outputs": [
    {
     "name": "stdout",
     "output_type": "stream",
     "text": [
      "hello world\n",
      "world hello\n"
     ]
    }
   ],
   "source": [
    "s=input()\n",
    "print(s[s.find(' ')+1:]+' '+s[:s.find(' ')])"
   ]
  },
  {
   "cell_type": "code",
   "execution_count": 106,
   "id": "abb5d7c6",
   "metadata": {
    "scrolled": true
   },
   "outputs": [
    {
     "name": "stdout",
     "output_type": "stream",
     "text": [
      "ffffffffffff\n",
      "0 11\n"
     ]
    }
   ],
   "source": [
    "s=input()\n",
    "if s.find('f')>=0:\n",
    "    if s.find('f')!=s.rfind('f'):\n",
    "        print(s.find('f'), s.rfind('f'))\n",
    "    else:\n",
    "        print(s.find('f'))"
   ]
  },
  {
   "cell_type": "code",
   "execution_count": 107,
   "id": "42b80f1c",
   "metadata": {},
   "outputs": [
    {
     "name": "stdout",
     "output_type": "stream",
     "text": [
      "ff\n",
      "0 1\n"
     ]
    }
   ],
   "source": [
    "s = input()\n",
    "if s.count('f') == 1:\n",
    "    print(s.find('f'))\n",
    "elif s.count('f') >= 2:\n",
    "    print(s.find('f'), s.rfind('f'))"
   ]
  },
  {
   "cell_type": "code",
   "execution_count": 125,
   "id": "e9fcbe82",
   "metadata": {},
   "outputs": [
    {
     "name": "stdout",
     "output_type": "stream",
     "text": [
      "ff\n",
      "1\n",
      "1\n"
     ]
    }
   ],
   "source": [
    "s=input()\n",
    "if s.count('f')==1:\n",
    "    print(-1)\n",
    "if s.count('f')==0:\n",
    "    print(-2)\n",
    "if s.count('f')>1:\n",
    "    print(s.find('f',s.find('f')+1))"
   ]
  },
  {
   "cell_type": "code",
   "execution_count": 127,
   "id": "a54a341b",
   "metadata": {},
   "outputs": [
    {
     "name": "stdout",
     "output_type": "stream",
     "text": [
      "ghjklhj\n",
      "gj\n"
     ]
    }
   ],
   "source": [
    "s=input()\n",
    "print(s.replace(s[s.find('h'):s.rfind('h')+1],''))\n"
   ]
  },
  {
   "cell_type": "code",
   "execution_count": 128,
   "id": "dcd906d4",
   "metadata": {},
   "outputs": [
    {
     "name": "stdout",
     "output_type": "stream",
     "text": [
      "dhjkkhkl\n",
      "dhkkjhkl\n"
     ]
    }
   ],
   "source": [
    "s=input()\n",
    "a=s[s.find('h'):s.rfind('h')+1]\n",
    "print(s.replace(s[s.find('h'):s.rfind('h')+1],a[::-1]))"
   ]
  },
  {
   "cell_type": "code",
   "execution_count": 129,
   "id": "708dc85d",
   "metadata": {},
   "outputs": [
    {
     "name": "stdout",
     "output_type": "stream",
     "text": [
      "year 1 time\n",
      "year one time\n"
     ]
    }
   ],
   "source": [
    "s=input()\n",
    "print(s.replace('1', 'one'))"
   ]
  },
  {
   "cell_type": "code",
   "execution_count": 134,
   "id": "a658c179",
   "metadata": {},
   "outputs": [
    {
     "name": "stdout",
     "output_type": "stream",
     "text": [
      "sdhlkhlkhlkhlk\n",
      "sdhlkHlkHlkhlk\n"
     ]
    }
   ],
   "source": [
    "s=input()\n",
    "a=s[:s.find('h')+1]+s[s.find('h')+1:s.rfind('h')].replace('h', 'H')+s[s.rfind('h'):]\n",
    "print(a)"
   ]
  },
  {
   "cell_type": "code",
   "execution_count": 137,
   "id": "d492feda",
   "metadata": {},
   "outputs": [
    {
     "name": "stdout",
     "output_type": "stream",
     "text": [
      "ashdgkdakd\n",
      "shgkak\n"
     ]
    }
   ],
   "source": [
    "s=input()\n",
    "a=''\n",
    "for i in range(len(s)):\n",
    "    if i%3!=0:\n",
    "        a=a+s[i]\n",
    "print(a)"
   ]
  },
  {
   "cell_type": "code",
   "execution_count": 138,
   "id": "129fac1e",
   "metadata": {},
   "outputs": [
    {
     "name": "stdout",
     "output_type": "stream",
     "text": [
      "456789\n",
      "6\n"
     ]
    }
   ],
   "source": [
    "n = int(input())\n",
    "length = 0\n",
    "while n > 0:\n",
    "    n //= 10  # это эквивалентно n = n // 10\n",
    "    length += 1\n",
    "print(length)"
   ]
  },
  {
   "cell_type": "code",
   "execution_count": null,
   "id": "bf46179b",
   "metadata": {},
   "outputs": [],
   "source": []
  }
 ],
 "metadata": {
  "kernelspec": {
   "display_name": "Python 3",
   "language": "python",
   "name": "python3"
  },
  "language_info": {
   "codemirror_mode": {
    "name": "ipython",
    "version": 3
   },
   "file_extension": ".py",
   "mimetype": "text/x-python",
   "name": "python",
   "nbconvert_exporter": "python",
   "pygments_lexer": "ipython3",
   "version": "3.8.8"
  }
 },
 "nbformat": 4,
 "nbformat_minor": 5
}
